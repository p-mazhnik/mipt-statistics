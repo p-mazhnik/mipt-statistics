{
 "cells": [
  {
   "cell_type": "markdown",
   "metadata": {},
   "source": [
    "#### Мажник Павел, 792"
   ]
  },
  {
   "cell_type": "markdown",
   "metadata": {},
   "source": [
    "### ДЗ 5. Доверительные интервалы.\n",
    "#### Задача 2. \n",
    "Пусть $$X_i = \\beta_1+i\\beta_2+\\varepsilon_0+\\ldots+\\varepsilon_i,\\, i= 0, 1, \\ldots, n$$ -- расстояния, которое проехал трамвай за $i$ секунд по показанию датчика. Здесь $\\beta_1$~--- начальное расстояние, $\\beta_2$ --- скорость трамвая, $\\varepsilon_0$ --- ошибка начального показания датчика. Трамвай едет с постоянной скоростью, и через каждую секунду датчик фиксирует расстояние, которое проехал трамвай. Отсчет времени идет от предыдущего замера, причем отсчет происходит с ошибкой. Для $i = 1, \\ldots, n$ величина $\\varepsilon_i$ есть ошибка приращения расстояния, то есть $\\varepsilon_i = \\varepsilon_i^t \\beta_2,$ где $\\varepsilon_i^t$ --- ошибка отсчета времени. Все ошибки $\\varepsilon_i$ независимы и распределены по закону $N(0, \\sigma^2)$. \n",
    "\n",
    "Сведите задачу к линейной модели и найдите оценки наименьших квадратов для начального расстояния $\\beta_1$ и скорости $\\beta_2,$ а также несмещенную оценку для $\\sigma^2,$ из которой выразите оценку дисперсии отсчета времени. \n",
    "\n",
    "Данные возьмите из файла Regression.csv. Сделайте выводы."
   ]
  },
  {
   "cell_type": "code",
   "execution_count": 15,
   "metadata": {},
   "outputs": [
    {
     "data": {
      "text/html": [
       "<div>\n",
       "<style scoped>\n",
       "    .dataframe tbody tr th:only-of-type {\n",
       "        vertical-align: middle;\n",
       "    }\n",
       "\n",
       "    .dataframe tbody tr th {\n",
       "        vertical-align: top;\n",
       "    }\n",
       "\n",
       "    .dataframe thead th {\n",
       "        text-align: right;\n",
       "    }\n",
       "</style>\n",
       "<table border=\"1\" class=\"dataframe\">\n",
       "  <thead>\n",
       "    <tr style=\"text-align: right;\">\n",
       "      <th></th>\n",
       "      <th>values</th>\n",
       "    </tr>\n",
       "  </thead>\n",
       "  <tbody>\n",
       "    <tr>\n",
       "      <th>0</th>\n",
       "      <td>82.0053</td>\n",
       "    </tr>\n",
       "    <tr>\n",
       "      <th>1</th>\n",
       "      <td>93.8427</td>\n",
       "    </tr>\n",
       "    <tr>\n",
       "      <th>2</th>\n",
       "      <td>106.7281</td>\n",
       "    </tr>\n",
       "    <tr>\n",
       "      <th>3</th>\n",
       "      <td>120.4825</td>\n",
       "    </tr>\n",
       "    <tr>\n",
       "      <th>4</th>\n",
       "      <td>132.7421</td>\n",
       "    </tr>\n",
       "  </tbody>\n",
       "</table>\n",
       "</div>"
      ],
      "text/plain": [
       "     values\n",
       "0   82.0053\n",
       "1   93.8427\n",
       "2  106.7281\n",
       "3  120.4825\n",
       "4  132.7421"
      ]
     },
     "execution_count": 15,
     "metadata": {},
     "output_type": "execute_result"
    }
   ],
   "source": [
    "%matplotlib inline\n",
    "import random\n",
    "import numpy as np\n",
    "import pandas as pd\n",
    "import matplotlib.pyplot as plt\n",
    "\n",
    "# Считываем данные: \n",
    "data = pd.read_csv(\"regression.csv\", names=['values'])\n",
    "data.head()"
   ]
  },
  {
   "cell_type": "markdown",
   "metadata": {},
   "source": [
    "Сведем задачу к гауссовской линейной модели. Пусть  \n",
    "$$Y_0 = X_0 = \\beta_1 + \\varepsilon_0$$\n",
    "$$Y_i = X_i - X_{i - 1} = \\beta_2 + \\varepsilon_i, \\, i = 1,\\dots, n$$  \n",
    "Тогда $\\theta = (\\beta_1, \\beta_2)^T$ и матрица весов  \n",
    "$$\n",
    "Z = \n",
    "\\begin{pmatrix}\n",
    "1 & 0 \\\\\n",
    "0 & 1 \\\\ \n",
    "0 & 1 \\\\\n",
    "\\ldots \\\\\n",
    "0 & 1\n",
    "\\end{pmatrix}\n",
    "$$"
   ]
  },
  {
   "cell_type": "markdown",
   "metadata": {},
   "source": [
    "Создадим вектор $Y$ и матрицу $Z$:  "
   ]
  },
  {
   "cell_type": "code",
   "execution_count": 19,
   "metadata": {},
   "outputs": [],
   "source": [
    "n = len(data) - 1\n",
    "Z = np.concatenate(([[1, 0]], np.column_stack((np.zeros(n), np.ones(n)))), axis=0)\n",
    "Y = np.append(np.array(data['values'][0]), data['values'][1:] - np.roll(data['values'], 1)[1:])"
   ]
  },
  {
   "cell_type": "markdown",
   "metadata": {},
   "source": [
    "Тогда оценки $\\theta$ и $\\sigma^2:$  \n",
    "$\\hat\\theta = (Z^TZ)^{-1}Z^TY$, $\\, \\hat\\sigma^2 = \\frac1{m-k}\\Vert Y - Z\\hat\\theta \\Vert^2$, где $m$ и $k$ - количество строк и столбцов матрицы Z.  \n",
    "Посчитаем оценки:  "
   ]
  },
  {
   "cell_type": "code",
   "execution_count": 32,
   "metadata": {},
   "outputs": [
    {
     "name": "stdout",
     "output_type": "stream",
     "text": [
      " b1 estimate: 82.0053\n",
      " b2 estimate: 11.970782982982987 \n",
      " Sigma^2 estimate: 1.5252448716138813\n"
     ]
    }
   ],
   "source": [
    "theta_est = np.dot((np.linalg.inv(Z.T @ Z) @ Z.T), Y)\n",
    "sigma_est = np.linalg.norm(Y - Z @ theta_est) ** 2 / (n + 1 - 2)\n",
    "print(f' b1 estimate: {theta_est[0]}\\n b2 estimate: {theta_est[1]} \\n Sigma^2 estimate: {sigma_est}')"
   ]
  },
  {
   "cell_type": "markdown",
   "metadata": {},
   "source": [
    "Найдём оценку дисперсии отсчета времени.  \n",
    "$\\varepsilon_i = \\varepsilon_i^t \\beta_2,$ где $\\varepsilon_i^t$ &ndash; ошибка отсчета времени. Тогда дисперсия $D \\varepsilon_i^t = \\frac{D \\varepsilon_i}{\\beta_2^2} \\Rightarrow \\hat\\sigma_t^2 = \\frac{\\hat\\sigma^2}{\\hat\\beta_2^2}$."
   ]
  },
  {
   "cell_type": "code",
   "execution_count": 34,
   "metadata": {},
   "outputs": [
    {
     "name": "stdout",
     "output_type": "stream",
     "text": [
      "0.010643744924921855\n"
     ]
    }
   ],
   "source": [
    "t_sigma_est = sigma_est / theta_est[1] ** 2\n",
    "print(t_sigma_est)"
   ]
  },
  {
   "cell_type": "markdown",
   "metadata": {},
   "source": [
    "Вывод: свели задачу к линейной гауссовской модели и посчитали оценки наименьших квадратов для начального расстояния и скорости, а также оценили дисперсию отсчета времени."
   ]
  },
  {
   "cell_type": "markdown",
   "metadata": {},
   "source": [
    " "
   ]
  }
 ],
 "metadata": {
  "kernelspec": {
   "display_name": "Python 3",
   "language": "python",
   "name": "python3"
  },
  "language_info": {
   "codemirror_mode": {
    "name": "ipython",
    "version": 3
   },
   "file_extension": ".py",
   "mimetype": "text/x-python",
   "name": "python",
   "nbconvert_exporter": "python",
   "pygments_lexer": "ipython3",
   "version": "3.7.3"
  }
 },
 "nbformat": 4,
 "nbformat_minor": 2
}
