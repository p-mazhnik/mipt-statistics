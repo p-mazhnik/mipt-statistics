{
 "cells": [
  {
   "cell_type": "markdown",
   "metadata": {},
   "source": [
    "#### Мажник Павел, 792"
   ]
  },
  {
   "cell_type": "markdown",
   "metadata": {},
   "source": [
    "### ДЗ 2. Основные методы поиска оценок.\n",
    "#### Задача 2. \n",
    "На высоте 1 метр от поверхности Земли закреплено устройство,\n",
    "которое периодически излучает лучи на поверхность Земли (считайте,\n",
    "что поверхность Земли представляет из себя прямую). Пусть $l$ $-$\n",
    "перпендикуляр к поверхности Земли, опущенный из точки, в которой\n",
    "закреплено устройство. Угол к прямой $l$ (под которым происходит\n",
    "излучение) устройство выбирает случайно из равномерного\n",
    "распределения на отрезке $(-\\pi/2, \\pi/2)$ (все выборы\n",
    "осуществляются независимо). В этих предположениях точки пересечения\n",
    "с поверхностью имеют распределение Коши с плотностью $p(x) =\n",
    "\\frac{1}{\\pi(1 + (x-x_0)^2)}.$ Неизвестный параметр сдвига $x_0$\n",
    "соответствует проекции точки расположения устройства на поверхность\n",
    "Земли (направление оси и начало координат на поверхности Земли\n",
    "выбраны заранее некоторым образом независимо от расположения\n",
    "устройства). В файле Cauchy.csv находятся координаты точек\n",
    "пересечения лучей с поверхностью Земли. Оцените параметр сдвига\n",
    "методом максимального правдоподобия a) по половине выборки (первые\n",
    "500 элементов выборки, т.е. выборка состоит из 1000 наблюдений);\n",
    "б) по всей выборке. Оценку произведите по сетке (т.е. возьмите набор\n",
    "точек с некоторым шагом и верните ту, на которой достигается\n",
    "максимум функции правдоподобия). Известно, что параметр масштаба\n",
    "принадлежит интервалу $[-1000, 1000].$ Выберите шаг равным 0.01.\n",
    "Если получается долго или не хватает памяти, то уменьшите интервал\n",
    "поиска и поясните (в комментариях), почему берете именно такой\n",
    "интервал."
   ]
  },
  {
   "cell_type": "code",
   "execution_count": 44,
   "metadata": {},
   "outputs": [],
   "source": [
    "import numpy as np\n",
    "import pandas as pd"
   ]
  },
  {
   "cell_type": "markdown",
   "metadata": {},
   "source": [
    "Выразим логарифмичискую функцию правдоподобия:\n",
    "$$p(x) = \\frac{1}{\\pi(1 + (x - x_0)^2)}$$\n",
    "$$\\Rightarrow L_{x_0}(X_1 ,\\ldots, X_n) = ln f_{x_0}(X_1 ,\\ldots, X_n) = -n \\ln\\pi - \\sum_i^n \\ln(1 + (x_i - x_0)^2)$$  \n",
    "Тогда оценка максимального правдоподобия:\n",
    "$$\\mathop{\\rm argmax}\\limits_{x_0} L_{x_0}(X_1 ,\\ldots, X_n) = \\mathop{\\rm argmax}\\limits_{x_0} \\left(-n \\ln\\pi - \\sum_i^n \\ln(1 + (x_i - x_0)^2) \\right) = \\mathop{\\rm argmax}\\limits_{x_0} \\left(- \\sum_i^n \\ln(1 + (x_i - x_0)^2) \\right) = \\mathop{\\rm argmin}\\limits_{x_0} \\sum_i^n \\ln(1 + (x_i - x_0)^2)$$"
   ]
  },
  {
   "cell_type": "code",
   "execution_count": 45,
   "metadata": {},
   "outputs": [],
   "source": [
    "# получившаяся функция: \n",
    "def ln_f(x, x0):\n",
    "    return np.sum(np.log(1 + (x - x0) ** 2))"
   ]
  },
  {
   "cell_type": "markdown",
   "metadata": {},
   "source": [
    "а) Оценим параметр сдвига методом максимального правдоподобия по половине выборки"
   ]
  },
  {
   "cell_type": "code",
   "execution_count": 46,
   "metadata": {},
   "outputs": [],
   "source": [
    "# функция поиска оценки\n",
    "def find_est(x):\n",
    "    x0s = [x0 * 0.01 for x0 in range(-100000, 100001)]\n",
    "    res = np.array([ln_f(x, x0) for x0 in x0s])\n",
    "    print(x0s[res.argmin()])\n",
    "    return x0s[res.argmin()] # т.к. нас интересует argmin(ln_f)"
   ]
  },
  {
   "cell_type": "code",
   "execution_count": 52,
   "metadata": {},
   "outputs": [],
   "source": [
    "# считываем файл\n",
    "cauchy = pd.read_csv('Cauchy.csv')"
   ]
  },
  {
   "cell_type": "code",
   "execution_count": 53,
   "metadata": {},
   "outputs": [
    {
     "name": "stdout",
     "output_type": "stream",
     "text": [
      "662.04\n"
     ]
    }
   ],
   "source": [
    "est1 = find_est(cauchy.head(500).values)"
   ]
  },
  {
   "cell_type": "markdown",
   "metadata": {},
   "source": [
    "б) Оценим параметр сдвига методом максимального правдоподобия по всей выборке"
   ]
  },
  {
   "cell_type": "code",
   "execution_count": 54,
   "metadata": {},
   "outputs": [
    {
     "name": "stdout",
     "output_type": "stream",
     "text": [
      "662.0500000000001\n"
     ]
    }
   ],
   "source": [
    "est2 = find_est(cauchy.values)"
   ]
  },
  {
   "cell_type": "markdown",
   "metadata": {},
   "source": [
    "Полученные результаты оценки параметра сдвига для половины выборки и для всей выборки отличаются несильно. Таким образом, мы можем рассматривать только половину выборки при вычислении параметра сдвига, что позволяет сокращать количество итераций."
   ]
  },
  {
   "cell_type": "markdown",
   "metadata": {},
   "source": [
    " "
   ]
  }
 ],
 "metadata": {
  "kernelspec": {
   "display_name": "Python 3",
   "language": "python",
   "name": "python3"
  },
  "language_info": {
   "codemirror_mode": {
    "name": "ipython",
    "version": 3
   },
   "file_extension": ".py",
   "mimetype": "text/x-python",
   "name": "python",
   "nbconvert_exporter": "python",
   "pygments_lexer": "ipython3",
   "version": "3.7.3"
  }
 },
 "nbformat": 4,
 "nbformat_minor": 2
}
