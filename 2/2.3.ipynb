{
 "cells": [
  {
   "cell_type": "markdown",
   "metadata": {},
   "source": [
    "#### Мажник Павел, 792"
   ]
  },
  {
   "cell_type": "markdown",
   "metadata": {},
   "source": [
    "### ДЗ 2. Основные методы поиска оценок.\n",
    "#### Задача 3. \n",
    "В банке каждую минуту подсчитывается баланс по\n",
    "сравнению с началом дня (6 часов утра). В полночь работники банка\n",
    "измеряют две величины: $X^1 -$ максимальное значение баланса за\n",
    "день, $X^2 -$ значение баланса в полночь. Считается, что величина\n",
    "$X = X^1 - X^2$ имеет распределение Вейбулла с функцией распределения $F(x) = 1 - e^{-x^\\gamma} (x > 0),$ где $\\gamma > 0$ $-$\n",
    "параметр формы. В течение 10 лет каждый день банк проводил\n",
    "измерение величины $X,$ получив в результате выборку $X_1, \\ldots,\n",
    "X_{3652}.$ В файле Weibull.csv находятся соответствующие измерения.\n",
    "Оцените параметр формы методом максимального правдоподобия a) по\n",
    "первым 4 годам; б) по всей выборке. Оценку произведите по сетке (в\n",
    "логарифмической шкале). Известно, что $\\log_{10}\\gamma \\in [-2, 2].$\n",
    "Выберите шаг равным $10^{-3}.$"
   ]
  },
  {
   "cell_type": "code",
   "execution_count": 31,
   "metadata": {},
   "outputs": [],
   "source": [
    "import numpy as np\n",
    "import pandas as pd"
   ]
  },
  {
   "cell_type": "markdown",
   "metadata": {},
   "source": [
    "Выразим логарифмичискую функцию правдоподобия:\n",
    "$$F(x) = (1 - e^{-x^\\gamma}) I(x > 0)$$\n",
    "$$\\Rightarrow p(x) = F'(x) = \\gamma e^{-x^\\gamma} x^{\\gamma - 1} I(x > 0)$$\n",
    "$$\\Rightarrow L_{\\gamma}(X_1 ,\\ldots, X_n) = ln f_{\\gamma}(X_1 ,\\ldots, X_n) = n \\ln\\gamma - \\sum_i^n x_i^\\gamma + (\\gamma - 1)\\sum_i^n \\ln x_i$$  \n",
    "Тогда оценка максимального правдоподобия:\n",
    "$$\\mathop{\\rm argmax}\\limits_{\\gamma} L_{\\gamma}(X_1 ,\\ldots, X_n) = \\mathop{\\rm argmax}\\limits_{\\gamma} \\left(n \\ln\\gamma - \\sum_i^n x_i^\\gamma + (\\gamma - 1)\\sum_i^n \\ln x_i \\right)$$"
   ]
  },
  {
   "cell_type": "code",
   "execution_count": 32,
   "metadata": {},
   "outputs": [],
   "source": [
    "# получившаяся функция: \n",
    "def ln_f(x, gamma):\n",
    "    return x.size * np.log(gamma) - np.sum(x ** gamma) + (gamma - 1) * np.sum(np.log(x))"
   ]
  },
  {
   "cell_type": "code",
   "execution_count": 33,
   "metadata": {},
   "outputs": [],
   "source": [
    "# функция поиска оценки\n",
    "def find_est(x):\n",
    "    log_gammas = [x0 * 0.001 for x0 in range(-2000, 2001)]\n",
    "    res = np.array([ln_f(x, 10 ** log_gamma) for log_gamma in log_gammas])\n",
    "    print(10 ** log_gammas[res.argmax()])\n",
    "    return 10 ** log_gammas[res.argmax()]"
   ]
  },
  {
   "cell_type": "code",
   "execution_count": 34,
   "metadata": {},
   "outputs": [],
   "source": [
    "# считываем файл\n",
    "weibull = pd.read_csv('Weibull.csv', names=['value'])\n",
    "# среди измерений находятся нулевые значения, поэтому прибавим к ним малую величину, чтобы избежать деления на ноль\n",
    "weibull.value[weibull.value == 0] += 0.0001"
   ]
  },
  {
   "cell_type": "markdown",
   "metadata": {},
   "source": [
    "а) Оценим параметр формы методом максимального правдоподобия по первым 4 годам"
   ]
  },
  {
   "cell_type": "code",
   "execution_count": 35,
   "metadata": {},
   "outputs": [
    {
     "name": "stdout",
     "output_type": "stream",
     "text": [
      "0.350751873952568\n"
     ]
    }
   ],
   "source": [
    "est1 = find_est(weibull.head(4 * 365 + 1).values)"
   ]
  },
  {
   "cell_type": "markdown",
   "metadata": {},
   "source": [
    "б) Оценим параметр формы методом максимального правдоподобия по всей выборке"
   ]
  },
  {
   "cell_type": "code",
   "execution_count": 36,
   "metadata": {},
   "outputs": [
    {
     "name": "stdout",
     "output_type": "stream",
     "text": [
      "0.34514373933585624\n"
     ]
    }
   ],
   "source": [
    "est2 = find_est(weibull.values)"
   ]
  },
  {
   "cell_type": "markdown",
   "metadata": {},
   "source": [
    "Полученные результаты оценки параметра формы для 4 лет и для всей выборки отличаются несильно."
   ]
  },
  {
   "cell_type": "markdown",
   "metadata": {},
   "source": [
    " "
   ]
  }
 ],
 "metadata": {
  "kernelspec": {
   "display_name": "Python 3",
   "language": "python",
   "name": "python3"
  },
  "language_info": {
   "codemirror_mode": {
    "name": "ipython",
    "version": 3
   },
   "file_extension": ".py",
   "mimetype": "text/x-python",
   "name": "python",
   "nbconvert_exporter": "python",
   "pygments_lexer": "ipython3",
   "version": "3.7.3"
  }
 },
 "nbformat": 4,
 "nbformat_minor": 2
}
